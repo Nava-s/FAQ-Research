{
 "cells": [
  {
   "cell_type": "markdown",
   "metadata": {},
   "source": [
    "Import libraries"
   ]
  },
  {
   "cell_type": "code",
   "execution_count": 11,
   "metadata": {},
   "outputs": [],
   "source": [
    "import pandas as pd\n",
    "import numpy as np\n",
    "from transformers import AutoTokenizer, AutoModel\n",
    "import torch\n",
    "from sklearn.metrics.pairwise import cosine_similarity"
   ]
  },
  {
   "cell_type": "code",
   "execution_count": 12,
   "metadata": {},
   "outputs": [],
   "source": [
    "model_name = \"sentence-transformers/paraphrase-multilingual-MiniLM-L12-v2\"\n",
    "tokenizer = AutoTokenizer.from_pretrained(model_name)\n",
    "model = AutoModel.from_pretrained(model_name)"
   ]
  },
  {
   "cell_type": "code",
   "execution_count": 13,
   "metadata": {},
   "outputs": [],
   "source": [
    "def get_embedding(text):\n",
    "    inputs = tokenizer(text, return_tensors='pt', truncation=True, padding=True)\n",
    "    outputs = model(**inputs)\n",
    "    embedding = outputs.last_hidden_state.mean(dim=1).detach().numpy()\n",
    "    return embedding"
   ]
  },
  {
   "cell_type": "markdown",
   "metadata": {},
   "source": [
    "Import Data"
   ]
  },
  {
   "cell_type": "code",
   "execution_count": 14,
   "metadata": {},
   "outputs": [],
   "source": [
    "data = pd.read_csv('data_riformulate.csv', delimiter = \";\")\n",
    "data_best = pd.read_csv('data_best.csv',delimiter=';')\n",
    "domande = data['Domande']\n",
    "riformulazioni = data['Riformulazione']"
   ]
  },
  {
   "cell_type": "markdown",
   "metadata": {},
   "source": [
    "Embeddings"
   ]
  },
  {
   "cell_type": "code",
   "execution_count": 15,
   "metadata": {},
   "outputs": [],
   "source": [
    "domande_embeddings = np.array([get_embedding(d) for d in domande])\n",
    "riformulazioni_embeddings = np.array([get_embedding(r) for r in riformulazioni])"
   ]
  },
  {
   "cell_type": "markdown",
   "metadata": {},
   "source": [
    "Top3 Function"
   ]
  },
  {
   "cell_type": "code",
   "execution_count": 16,
   "metadata": {},
   "outputs": [],
   "source": [
    "def similarity_model(similarity_data, domande):\n",
    "    lista_domande = []\n",
    "    for i in range(3):\n",
    "        max_index = np.argmax(similarity_data)\n",
    "        lista_domande.append(domande[max_index])\n",
    "        similarity_data[0,max_index] = -1\n",
    "    return lista_domande"
   ]
  },
  {
   "cell_type": "code",
   "execution_count": 37,
   "metadata": {},
   "outputs": [],
   "source": [
    "dom_sintetica = data_best['DomandaSintetica']\n",
    "syn_question = np.array([get_embedding(d) for d in dom_sintetica])\n",
    "best_questions_list = []\n"
   ]
  },
  {
   "cell_type": "code",
   "execution_count": 43,
   "metadata": {},
   "outputs": [],
   "source": [
    "# Rimuovi la dimensione extra da domande_embeddings, riformulazioni_embeddings e syn_question\n",
    "domande_embeddings = np.squeeze(domande_embeddings)  # Da (31, 1, 384) a (31, 384)\n",
    "riformulazioni_embeddings = np.squeeze(riformulazioni_embeddings)  # Da (31, 1, 384) a (31, 384)\n",
    "syn_question = np.squeeze(syn_question)  # Da (74, 1, 384) a (74, 384)\n"
   ]
  },
  {
   "cell_type": "code",
   "execution_count": 44,
   "metadata": {},
   "outputs": [
    {
     "name": "stdout",
     "output_type": "stream",
     "text": [
      "(31, 384) \n",
      " (31, 384) \n",
      " (74, 384)\n"
     ]
    }
   ],
   "source": [
    "print(domande_embeddings.shape,'\\n',riformulazioni_embeddings.shape,'\\n',syn_question.shape)"
   ]
  },
  {
   "cell_type": "code",
   "execution_count": 47,
   "metadata": {},
   "outputs": [],
   "source": [
    "\n",
    "# Ciclo per calcolare la similarità per ogni domanda sintetica\n",
    "for i in syn_question:\n",
    "    similarity_values1 = cosine_similarity(i.reshape(1,-1), domande_embeddings)\n",
    "    similarity_values2 = cosine_similarity(i.reshape(1,-1), riformulazioni_embeddings)\n",
    "    \n",
    "    similarity_values = [max(similarity_values1[0][j], similarity_values2[0][j]) for j in range(len(domande))]\n",
    "    \n",
    "    top_3_questions = similarity_model(np.array(similarity_values).reshape(1,-1), domande)\n",
    "    best_questions_list.append(top_3_questions)"
   ]
  },
  {
   "cell_type": "code",
   "execution_count": 48,
   "metadata": {},
   "outputs": [
    {
     "name": "stdout",
     "output_type": "stream",
     "text": [
      "Top3 Accuracy Score is: 0.811\n"
     ]
    }
   ],
   "source": [
    "\n",
    "# Confronto con le domande \"best\" del dataset 'data_best'\n",
    "correct_matches = 0  # Variabile per contare i match corretti\n",
    "\n",
    "for i in range(len(best_questions_list)):\n",
    "    if data_best['DomandaCorretta'][i] in best_questions_list[i]:\n",
    "        correct_matches += 1\n",
    "\n",
    "\n",
    "# Output del risultato\n",
    "print(f\"Top3 Accuracy Score is: {round(correct_matches/len(data_best),3)}\")\n",
    "\n",
    "log_error = {\n",
    "    \"DomandaSintetica\": [],\n",
    "    \"DomandaCorretta\": [],\n",
    "    \"ListaTop3\": []\n",
    "}\n",
    "\n",
    "for i in range(len(best_questions_list)):\n",
    "    if data_best['DomandaCorretta'][i] not in best_questions_list[i]:\n",
    "        log_error[\"DomandaSintetica\"].append(data_best['DomandaSintetica'][i])\n",
    "        log_error[\"DomandaCorretta\"].append(data_best['DomandaCorretta'][i])\n",
    "        log_error[\"ListaTop3\"].append(best_questions_list[i])\n",
    "\n",
    "df_log = pd.DataFrame(log_error)\n",
    "df_log.to_csv(r'c:\\Users\\antonio.proietti\\OneDrive - A2A Group\\Desktop\\backup lavoro\\File Antonio\\ML Projects\\CosineSimilarityNLP\\log_error.csv', encoding = 'utf-8', index = False)"
   ]
  },
  {
   "cell_type": "code",
   "execution_count": null,
   "metadata": {},
   "outputs": [],
   "source": []
  }
 ],
 "metadata": {
  "kernelspec": {
   "display_name": "Python 3",
   "language": "python",
   "name": "python3"
  },
  "language_info": {
   "codemirror_mode": {
    "name": "ipython",
    "version": 3
   },
   "file_extension": ".py",
   "mimetype": "text/x-python",
   "name": "python",
   "nbconvert_exporter": "python",
   "pygments_lexer": "ipython3",
   "version": "3.10.5"
  }
 },
 "nbformat": 4,
 "nbformat_minor": 2
}
